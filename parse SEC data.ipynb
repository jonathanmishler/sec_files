{
 "cells": [
  {
   "cell_type": "code",
   "execution_count": 1,
   "metadata": {},
   "outputs": [],
   "source": [
    "from typing import Union\n",
    "from pathlib import Path\n",
    "import datetime\n",
    "import logging\n",
    "import psycopg\n",
    "import db\n",
    "import sec_financials\n",
    "from sqlalchemy.inspection import inspect\n",
    "from psycopg import sql"
   ]
  },
  {
   "cell_type": "code",
   "execution_count": 2,
   "metadata": {},
   "outputs": [],
   "source": [
    "logging.basicConfig(level=logging.INFO)"
   ]
  },
  {
   "cell_type": "code",
   "execution_count": 2,
   "metadata": {},
   "outputs": [],
   "source": [
    "db.models.Num.__table__.drop(db.setup.engine)\n",
    "db.models.Pre.__table__.drop(db.setup.engine)\n",
    "db.models.Tag.__table__.drop(db.setup.engine)\n",
    "db.models.Sub.__table__.drop(db.setup.engine)"
   ]
  },
  {
   "cell_type": "code",
   "execution_count": 3,
   "metadata": {},
   "outputs": [],
   "source": [
    "db.setup.main_setup()\n",
    "sec = sec_financials.SecFiles(start_date='2010-01-01')"
   ]
  },
  {
   "cell_type": "code",
   "execution_count": 13,
   "metadata": {},
   "outputs": [
    {
     "name": "stderr",
     "output_type": "stream",
     "text": [
      "INFO:root:COPY \"sub\" (\"adsh\",\"cik\",\"name\",\"sic\",\"countryba\",\"stprba\",\"cityba\",\"zipba\",\"bas1\",\"bas2\",\"baph\",\"countryinc\",\"stprinc\",\"ein\",\"former\",\"changed\",\"afs\",\"wksi\",\"fye\",\"form\",\"period\",\"fy\",\"fp\",\"filed\",\"accepted\",\"prevrpt\",\"detail\",\"instance\",\"nciks\",\"aciks\") FROM STDIN\n",
      "INFO:root:<psycopg.Copy [ACTIVE] (host=localhost user=root database=postgres) at 0x7f11e8463940>\n"
     ]
    }
   ],
   "source": [
    "with psycopg.connect(db.settings.Settings().conn_str) as conn:\n",
    "    with conn.cursor() as cur:\n",
    "        #pass\n",
    "        logging.info(f\"Filling Sub Table\")\n",
    "        db.ops.copy_to_table(cur, db.models.Sub, sec.sub)\n",
    "        logging.info(f\"Filling Sub Table\")\n",
    "        db.ops.insert_records(db.models.Tag, sec.tag, True)\n",
    "        logging.info(f\"Filling Sub Table\")\n",
    "        db.ops.copy_to_table(cur, db.models.Num, sec.num)\n",
    "        logging.info(f\"Filling Sub Table\")\n",
    "        db.ops.copy_to_table(cur, db.models.Pre, sec.pre)"
   ]
  },
  {
   "cell_type": "code",
   "execution_count": 4,
   "metadata": {},
   "outputs": [],
   "source": [
    "db.ops.insert_records(db.models.Sub, sec.sub, True)"
   ]
  },
  {
   "cell_type": "code",
   "execution_count": 8,
   "metadata": {},
   "outputs": [
    {
     "name": "stderr",
     "output_type": "stream",
     "text": [
      "INFO:root:Using standard sqlalchemy method\n"
     ]
    }
   ],
   "source": [
    "db.ops.insert_records(db.models.Sub, sec.sub)"
   ]
  },
  {
   "cell_type": "code",
   "execution_count": 4,
   "metadata": {},
   "outputs": [
    {
     "name": "stdout",
     "output_type": "stream",
     "text": [
      "46675423\n"
     ]
    }
   ],
   "source": [
    "i = 0\n",
    "for row in sec.pre:\n",
    "    i+=1\n",
    "    x = db.models.Pre.parse_obj(row)\n",
    "\n",
    "print(i)"
   ]
  },
  {
   "cell_type": "code",
   "execution_count": 34,
   "metadata": {},
   "outputs": [
    {
     "data": {
      "text/plain": [
       "[(datetime.date(2009, 3, 31), PosixPath('files/2009Q1')),\n",
       " (datetime.date(2009, 6, 30), PosixPath('files/2009Q2')),\n",
       " (datetime.date(2009, 9, 30), PosixPath('files/2009Q3')),\n",
       " (datetime.date(2009, 12, 31), PosixPath('files/2009Q4')),\n",
       " (datetime.date(2010, 3, 31), PosixPath('files/2010Q1')),\n",
       " (datetime.date(2010, 6, 30), PosixPath('files/2010Q2')),\n",
       " (datetime.date(2010, 9, 30), PosixPath('files/2010Q3')),\n",
       " (datetime.date(2010, 12, 31), PosixPath('files/2010Q4')),\n",
       " (datetime.date(2011, 3, 31), PosixPath('files/2011Q1')),\n",
       " (datetime.date(2011, 6, 30), PosixPath('files/2011Q2')),\n",
       " (datetime.date(2011, 9, 30), PosixPath('files/2011Q3')),\n",
       " (datetime.date(2011, 12, 31), PosixPath('files/2011Q4')),\n",
       " (datetime.date(2012, 3, 31), PosixPath('files/2012Q1')),\n",
       " (datetime.date(2012, 6, 30), PosixPath('files/2012Q2')),\n",
       " (datetime.date(2012, 9, 30), PosixPath('files/2012Q3')),\n",
       " (datetime.date(2012, 12, 31), PosixPath('files/2012Q4')),\n",
       " (datetime.date(2013, 3, 31), PosixPath('files/2013Q1')),\n",
       " (datetime.date(2013, 6, 30), PosixPath('files/2013Q2')),\n",
       " (datetime.date(2013, 9, 30), PosixPath('files/2013Q3')),\n",
       " (datetime.date(2013, 12, 31), PosixPath('files/2013Q4')),\n",
       " (datetime.date(2014, 3, 31), PosixPath('files/2014Q1')),\n",
       " (datetime.date(2014, 6, 30), PosixPath('files/2014Q2')),\n",
       " (datetime.date(2014, 9, 30), PosixPath('files/2014Q3')),\n",
       " (datetime.date(2014, 12, 31), PosixPath('files/2014Q4')),\n",
       " (datetime.date(2015, 3, 31), PosixPath('files/2015Q1')),\n",
       " (datetime.date(2015, 6, 30), PosixPath('files/2015Q2')),\n",
       " (datetime.date(2015, 9, 30), PosixPath('files/2015Q3')),\n",
       " (datetime.date(2015, 12, 31), PosixPath('files/2015Q4')),\n",
       " (datetime.date(2016, 3, 31), PosixPath('files/2016Q1')),\n",
       " (datetime.date(2016, 6, 30), PosixPath('files/2016Q2')),\n",
       " (datetime.date(2016, 9, 30), PosixPath('files/2016Q3')),\n",
       " (datetime.date(2016, 12, 31), PosixPath('files/2016Q4')),\n",
       " (datetime.date(2017, 3, 31), PosixPath('files/2017Q1')),\n",
       " (datetime.date(2017, 6, 30), PosixPath('files/2017Q2')),\n",
       " (datetime.date(2017, 9, 30), PosixPath('files/2017Q3')),\n",
       " (datetime.date(2017, 12, 31), PosixPath('files/2017Q4')),\n",
       " (datetime.date(2018, 3, 31), PosixPath('files/2018Q1')),\n",
       " (datetime.date(2018, 6, 30), PosixPath('files/2018Q2')),\n",
       " (datetime.date(2018, 9, 30), PosixPath('files/2018Q3')),\n",
       " (datetime.date(2018, 12, 31), PosixPath('files/2018Q4')),\n",
       " (datetime.date(2019, 3, 31), PosixPath('files/2019Q1')),\n",
       " (datetime.date(2019, 6, 30), PosixPath('files/2019Q2')),\n",
       " (datetime.date(2019, 9, 30), PosixPath('files/2019Q3')),\n",
       " (datetime.date(2019, 12, 31), PosixPath('files/2019Q4')),\n",
       " (datetime.date(2020, 3, 31), PosixPath('files/2020Q1')),\n",
       " (datetime.date(2020, 6, 30), PosixPath('files/2020Q2')),\n",
       " (datetime.date(2020, 9, 30), PosixPath('files/2020Q3')),\n",
       " (datetime.date(2020, 12, 31), PosixPath('files/2020Q4')),\n",
       " (datetime.date(2021, 3, 31), PosixPath('files/2021Q1')),\n",
       " (datetime.date(2021, 6, 30), PosixPath('files/2021Q2')),\n",
       " (datetime.date(2021, 9, 30), PosixPath('files/2021Q3')),\n",
       " (datetime.date(2021, 12, 31), PosixPath('files/2021Q4'))]"
      ]
     },
     "execution_count": 34,
     "metadata": {},
     "output_type": "execute_result"
    }
   ],
   "source": [
    "def yr_qtr_to_date(yr_qtr_str: str) -> datetime.date:\n",
    "    \"\"\" Converts a str in the form {year}Q{qtr} (ie 2010Q2) to the end of the quarter 2010-03-31 \"\"\"\n",
    "    yr, qtr = yr_qtr_str.split(\"Q\")\n",
    "    mon = 1 + int(qtr)*3 if int(qtr) < 4 else 1\n",
    "    yr = int(yr) if mon > 1 else int(yr) + 1\n",
    "    return datetime.date(yr, mon, 1) - datetime.timedelta(days=1)\n",
    "sorted([(yr_qtr_to_date(f.name),f) for f in list(Path('./files').iterdir())], key=lambda x: x[0])"
   ]
  },
  {
   "cell_type": "code",
   "execution_count": 4,
   "metadata": {},
   "outputs": [
    {
     "name": "stderr",
     "output_type": "stream",
     "text": [
      "INFO:root:Skipping quarter ending 2009-03-31\n",
      "INFO:root:Skipping quarter ending 2009-06-30\n",
      "INFO:root:Skipping quarter ending 2009-09-30\n",
      "INFO:root:Skipping quarter ending 2009-12-31\n",
      "INFO:root:Reading file from quarter ending 2010-03-31\n",
      "INFO:root:Reading file from quarter ending 2010-06-30\n",
      "INFO:root:Reading file from quarter ending 2010-09-30\n",
      "INFO:root:Reading file from quarter ending 2010-12-31\n",
      "INFO:root:Reading file from quarter ending 2011-03-31\n"
     ]
    },
    {
     "ename": "KeyboardInterrupt",
     "evalue": "",
     "output_type": "error",
     "traceback": [
      "\u001b[0;31m---------------------------------------------------------------------------\u001b[0m",
      "\u001b[0;31mKeyboardInterrupt\u001b[0m                         Traceback (most recent call last)",
      "\u001b[0;32m/tmp/ipykernel_87621/3863289476.py\u001b[0m in \u001b[0;36m<module>\u001b[0;34m\u001b[0m\n\u001b[0;32m----> 1\u001b[0;31m \u001b[0mlist\u001b[0m\u001b[0;34m(\u001b[0m\u001b[0msec\u001b[0m\u001b[0;34m.\u001b[0m\u001b[0mnum\u001b[0m\u001b[0;34m)\u001b[0m\u001b[0;34m\u001b[0m\u001b[0;34m\u001b[0m\u001b[0m\n\u001b[0m",
      "\u001b[0;32m~/Projects/sec_download/sec_financials/sec_files.py\u001b[0m in \u001b[0;36mgen_fin_files\u001b[0;34m(self, file_type, start_date)\u001b[0m\n\u001b[1;32m     78\u001b[0m             \u001b[0;32mif\u001b[0m \u001b[0mdate\u001b[0m \u001b[0;34m>\u001b[0m \u001b[0mstart_date\u001b[0m\u001b[0;34m:\u001b[0m\u001b[0;34m\u001b[0m\u001b[0;34m\u001b[0m\u001b[0m\n\u001b[1;32m     79\u001b[0m                 \u001b[0mlogging\u001b[0m\u001b[0;34m.\u001b[0m\u001b[0minfo\u001b[0m\u001b[0;34m(\u001b[0m\u001b[0;34mf\"Reading file from quarter ending {date.isoformat()}\"\u001b[0m\u001b[0;34m)\u001b[0m\u001b[0;34m\u001b[0m\u001b[0;34m\u001b[0m\u001b[0m\n\u001b[0;32m---> 80\u001b[0;31m                 \u001b[0;32myield\u001b[0m \u001b[0;32mfrom\u001b[0m \u001b[0mself\u001b[0m\u001b[0;34m.\u001b[0m\u001b[0mgen_dict\u001b[0m\u001b[0;34m(\u001b[0m\u001b[0mfile_path\u001b[0m\u001b[0;34m)\u001b[0m\u001b[0;34m\u001b[0m\u001b[0;34m\u001b[0m\u001b[0m\n\u001b[0m\u001b[1;32m     81\u001b[0m             \u001b[0;32melse\u001b[0m\u001b[0;34m:\u001b[0m\u001b[0;34m\u001b[0m\u001b[0;34m\u001b[0m\u001b[0m\n\u001b[1;32m     82\u001b[0m                 \u001b[0mlogging\u001b[0m\u001b[0;34m.\u001b[0m\u001b[0minfo\u001b[0m\u001b[0;34m(\u001b[0m\u001b[0;34mf\"Skipping quarter ending {date.isoformat()}\"\u001b[0m\u001b[0;34m)\u001b[0m\u001b[0;34m\u001b[0m\u001b[0;34m\u001b[0m\u001b[0m\n",
      "\u001b[0;32m~/Projects/sec_download/sec_financials/sec_files.py\u001b[0m in \u001b[0;36mgen_dict\u001b[0;34m(file_path)\u001b[0m\n\u001b[1;32m     89\u001b[0m             \u001b[0mhead\u001b[0m \u001b[0;34m=\u001b[0m \u001b[0mreader\u001b[0m\u001b[0;34m.\u001b[0m\u001b[0m__next__\u001b[0m\u001b[0;34m(\u001b[0m\u001b[0;34m)\u001b[0m\u001b[0;34m\u001b[0m\u001b[0;34m\u001b[0m\u001b[0m\n\u001b[1;32m     90\u001b[0m             \u001b[0;32mfor\u001b[0m \u001b[0mrow\u001b[0m \u001b[0;32min\u001b[0m \u001b[0mreader\u001b[0m\u001b[0;34m:\u001b[0m\u001b[0;34m\u001b[0m\u001b[0;34m\u001b[0m\u001b[0m\n\u001b[0;32m---> 91\u001b[0;31m                 \u001b[0;32myield\u001b[0m \u001b[0;34m{\u001b[0m\u001b[0mk\u001b[0m\u001b[0;34m:\u001b[0m \u001b[0mv\u001b[0m \u001b[0;32mfor\u001b[0m \u001b[0mk\u001b[0m\u001b[0;34m,\u001b[0m \u001b[0mv\u001b[0m \u001b[0;32min\u001b[0m \u001b[0mzip\u001b[0m\u001b[0;34m(\u001b[0m\u001b[0mhead\u001b[0m\u001b[0;34m,\u001b[0m \u001b[0mrow\u001b[0m\u001b[0;34m)\u001b[0m\u001b[0;34m}\u001b[0m\u001b[0;34m\u001b[0m\u001b[0;34m\u001b[0m\u001b[0m\n\u001b[0m\u001b[1;32m     92\u001b[0m \u001b[0;34m\u001b[0m\u001b[0m\n\u001b[1;32m     93\u001b[0m     \u001b[0;32mdef\u001b[0m \u001b[0mdownload_files\u001b[0m\u001b[0;34m(\u001b[0m\u001b[0mself\u001b[0m\u001b[0;34m)\u001b[0m\u001b[0;34m:\u001b[0m\u001b[0;34m\u001b[0m\u001b[0;34m\u001b[0m\u001b[0m\n",
      "\u001b[0;32m~/Projects/sec_download/sec_financials/sec_files.py\u001b[0m in \u001b[0;36m<dictcomp>\u001b[0;34m(.0)\u001b[0m\n\u001b[1;32m     89\u001b[0m             \u001b[0mhead\u001b[0m \u001b[0;34m=\u001b[0m \u001b[0mreader\u001b[0m\u001b[0;34m.\u001b[0m\u001b[0m__next__\u001b[0m\u001b[0;34m(\u001b[0m\u001b[0;34m)\u001b[0m\u001b[0;34m\u001b[0m\u001b[0;34m\u001b[0m\u001b[0m\n\u001b[1;32m     90\u001b[0m             \u001b[0;32mfor\u001b[0m \u001b[0mrow\u001b[0m \u001b[0;32min\u001b[0m \u001b[0mreader\u001b[0m\u001b[0;34m:\u001b[0m\u001b[0;34m\u001b[0m\u001b[0;34m\u001b[0m\u001b[0m\n\u001b[0;32m---> 91\u001b[0;31m                 \u001b[0;32myield\u001b[0m \u001b[0;34m{\u001b[0m\u001b[0mk\u001b[0m\u001b[0;34m:\u001b[0m \u001b[0mv\u001b[0m \u001b[0;32mfor\u001b[0m \u001b[0mk\u001b[0m\u001b[0;34m,\u001b[0m \u001b[0mv\u001b[0m \u001b[0;32min\u001b[0m \u001b[0mzip\u001b[0m\u001b[0;34m(\u001b[0m\u001b[0mhead\u001b[0m\u001b[0;34m,\u001b[0m \u001b[0mrow\u001b[0m\u001b[0;34m)\u001b[0m\u001b[0;34m}\u001b[0m\u001b[0;34m\u001b[0m\u001b[0;34m\u001b[0m\u001b[0m\n\u001b[0m\u001b[1;32m     92\u001b[0m \u001b[0;34m\u001b[0m\u001b[0m\n\u001b[1;32m     93\u001b[0m     \u001b[0;32mdef\u001b[0m \u001b[0mdownload_files\u001b[0m\u001b[0;34m(\u001b[0m\u001b[0mself\u001b[0m\u001b[0;34m)\u001b[0m\u001b[0;34m:\u001b[0m\u001b[0;34m\u001b[0m\u001b[0;34m\u001b[0m\u001b[0m\n",
      "\u001b[0;31mKeyboardInterrupt\u001b[0m: "
     ]
    }
   ],
   "source": [
    "list(sec.num)"
   ]
  },
  {
   "cell_type": "code",
   "execution_count": 11,
   "metadata": {},
   "outputs": [
    {
     "data": {
      "text/plain": [
       "<sqlalchemy.sql.dml.Insert object at 0x7f27927daee0>"
      ]
     },
     "execution_count": 11,
     "metadata": {},
     "output_type": "execute_result"
    }
   ],
   "source": [
    "db.models.Sub.__table__.insert().values({})"
   ]
  },
  {
   "cell_type": "code",
   "execution_count": 12,
   "metadata": {},
   "outputs": [],
   "source": [
    "from sqlalchemy.dialects.postgresql import insert"
   ]
  },
  {
   "cell_type": "code",
   "execution_count": 14,
   "metadata": {},
   "outputs": [
    {
     "data": {
      "text/plain": [
       "<sqlalchemy.dialects.postgresql.dml.Insert object at 0x7f27aa7b1970>"
      ]
     },
     "execution_count": 14,
     "metadata": {},
     "output_type": "execute_result"
    }
   ],
   "source": [
    "insert(db.models.Sub).on_conflict_do_nothing()"
   ]
  },
  {
   "cell_type": "code",
   "execution_count": null,
   "metadata": {},
   "outputs": [],
   "source": []
  }
 ],
 "metadata": {
  "interpreter": {
   "hash": "be6e626a11dbc6f76aa6459305ff6146e0a9cc4519dafeb3a0037c176126051a"
  },
  "kernelspec": {
   "display_name": "Python 3.9.9 64-bit ('.venv': venv)",
   "language": "python",
   "name": "python3"
  },
  "language_info": {
   "codemirror_mode": {
    "name": "ipython",
    "version": 3
   },
   "file_extension": ".py",
   "mimetype": "text/x-python",
   "name": "python",
   "nbconvert_exporter": "python",
   "pygments_lexer": "ipython3",
   "version": "3.9.5"
  },
  "orig_nbformat": 4
 },
 "nbformat": 4,
 "nbformat_minor": 2
}
